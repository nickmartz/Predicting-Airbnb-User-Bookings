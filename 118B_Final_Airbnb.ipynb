{
  "nbformat": 4,
  "nbformat_minor": 0,
  "metadata": {
    "colab": {
      "name": "118B_Airbnb.ipynb",
      "version": "0.3.2",
      "provenance": [],
      "collapsed_sections": []
    },
    "kernelspec": {
      "name": "python3",
      "display_name": "Python 3"
    },
    "accelerator": "GPU"
  },
  "cells": [
    {
      "metadata": {
        "id": "sj-rvMVE2j5s",
        "colab_type": "code",
        "colab": {}
      },
      "cell_type": "code",
      "source": [
        "import numpy as np\n",
        "import pandas as pd\n",
        "import seaborn as sns\n",
        "import matplotlib.pyplot as plt\n",
        "from sklearn import tree\n",
        "from sklearn.model_selection import GridSearchCV\n",
        "import xgboost as xgb"
      ],
      "execution_count": 0,
      "outputs": []
    },
    {
      "metadata": {
        "id": "zU6Uexd9LsPZ",
        "colab_type": "code",
        "outputId": "28d3c7e1-ce80-43e8-9be0-a538ce471c11",
        "colab": {
          "base_uri": "https://localhost:8080/",
          "height": 34
        }
      },
      "cell_type": "code",
      "source": [
        "from google.colab import drive\n",
        "drive.mount('/content/gdrive')"
      ],
      "execution_count": 0,
      "outputs": [
        {
          "output_type": "stream",
          "text": [
            "Drive already mounted at /content/gdrive; to attempt to forcibly remount, call drive.mount(\"/content/gdrive\", force_remount=True).\n"
          ],
          "name": "stdout"
        }
      ]
    },
    {
      "metadata": {
        "id": "FgEInLf9L6vj",
        "colab_type": "code",
        "colab": {}
      },
      "cell_type": "code",
      "source": [
        "#import datasets\n",
        "#countries = pd.read_csv(\"/content/gdrive/My Drive/Colab Notebooks/countries.csv\")\n",
        "#age_gender = pd.read_csv(\"/content/gdrive/My Drive/Colab Notebooks/age_gender_bkts.csv\")\n",
        "#sessions = pd.read_csv(\"/content/gdrive/My Drive/Colab Notebooks/sessions.csv\")\n",
        "test = pd.read_csv(\"/content/gdrive/My Drive/Colab Notebooks/test_users.csv\")\n",
        "train_users = pd.read_csv(\"/content/gdrive/My Drive/Colab Notebooks/train_users_2.csv\")"
      ],
      "execution_count": 0,
      "outputs": []
    },
    {
      "metadata": {
        "id": "FWkw_0T9NBc2",
        "colab_type": "code",
        "outputId": "fc97d9b8-dae6-4e9e-820e-af44cf22c659",
        "colab": {
          "base_uri": "https://localhost:8080/",
          "height": 850
        }
      },
      "cell_type": "code",
      "source": [
        "#first few rows of train_users dataset\n",
        "print(train_users.head())\n",
        "#training set info\n",
        "print(train_users.info())"
      ],
      "execution_count": 0,
      "outputs": [
        {
          "output_type": "stream",
          "text": [
            "           id date_account_created  timestamp_first_active date_first_booking  \\\n",
            "0  gxn3p5htnn           2010-06-28          20090319043255                NaN   \n",
            "1  820tgsjxq7           2011-05-25          20090523174809                NaN   \n",
            "2  4ft3gnwmtx           2010-09-28          20090609231247         2010-08-02   \n",
            "3  bjjt8pjhuk           2011-12-05          20091031060129         2012-09-08   \n",
            "4  87mebub9p4           2010-09-14          20091208061105         2010-02-18   \n",
            "\n",
            "      gender   age signup_method  signup_flow language affiliate_channel  \\\n",
            "0  -unknown-   NaN      facebook            0       en            direct   \n",
            "1       MALE  38.0      facebook            0       en               seo   \n",
            "2     FEMALE  56.0         basic            3       en            direct   \n",
            "3     FEMALE  42.0      facebook            0       en            direct   \n",
            "4  -unknown-  41.0         basic            0       en            direct   \n",
            "\n",
            "  affiliate_provider first_affiliate_tracked signup_app first_device_type  \\\n",
            "0             direct               untracked        Web       Mac Desktop   \n",
            "1             google               untracked        Web       Mac Desktop   \n",
            "2             direct               untracked        Web   Windows Desktop   \n",
            "3             direct               untracked        Web       Mac Desktop   \n",
            "4             direct               untracked        Web       Mac Desktop   \n",
            "\n",
            "  first_browser country_destination  \n",
            "0        Chrome                 NDF  \n",
            "1        Chrome                 NDF  \n",
            "2            IE                  US  \n",
            "3       Firefox               other  \n",
            "4        Chrome                  US  \n",
            "<class 'pandas.core.frame.DataFrame'>\n",
            "RangeIndex: 213451 entries, 0 to 213450\n",
            "Data columns (total 16 columns):\n",
            "id                         213451 non-null object\n",
            "date_account_created       213451 non-null object\n",
            "timestamp_first_active     213451 non-null int64\n",
            "date_first_booking         88908 non-null object\n",
            "gender                     213451 non-null object\n",
            "age                        125461 non-null float64\n",
            "signup_method              213451 non-null object\n",
            "signup_flow                213451 non-null int64\n",
            "language                   213451 non-null object\n",
            "affiliate_channel          213451 non-null object\n",
            "affiliate_provider         213451 non-null object\n",
            "first_affiliate_tracked    207386 non-null object\n",
            "signup_app                 213451 non-null object\n",
            "first_device_type          213451 non-null object\n",
            "first_browser              213451 non-null object\n",
            "country_destination        213451 non-null object\n",
            "dtypes: float64(1), int64(2), object(13)\n",
            "memory usage: 26.1+ MB\n",
            "None\n"
          ],
          "name": "stdout"
        }
      ]
    },
    {
      "metadata": {
        "id": "vxviWetRNfxK",
        "colab_type": "code",
        "outputId": "befa48f3-b1b7-44b6-c578-9eb5bc7bab95",
        "colab": {
          "base_uri": "https://localhost:8080/",
          "height": 204
        }
      },
      "cell_type": "code",
      "source": [
        "#drop columns that we do not need\n",
        "train_users = train_users.drop([\"id\",\"timestamp_first_active\",'signup_flow','affiliate_channel',\n",
        "                                'first_affiliate_tracked','signup_app','first_device_type','first_browser',\n",
        "                               'signup_method','affiliate_provider'], axis = 1)\n",
        "#these are the only relevant columns we need\n",
        "train_users.head()"
      ],
      "execution_count": 0,
      "outputs": [
        {
          "output_type": "execute_result",
          "data": {
            "text/html": [
              "<div>\n",
              "<style scoped>\n",
              "    .dataframe tbody tr th:only-of-type {\n",
              "        vertical-align: middle;\n",
              "    }\n",
              "\n",
              "    .dataframe tbody tr th {\n",
              "        vertical-align: top;\n",
              "    }\n",
              "\n",
              "    .dataframe thead th {\n",
              "        text-align: right;\n",
              "    }\n",
              "</style>\n",
              "<table border=\"1\" class=\"dataframe\">\n",
              "  <thead>\n",
              "    <tr style=\"text-align: right;\">\n",
              "      <th></th>\n",
              "      <th>date_account_created</th>\n",
              "      <th>date_first_booking</th>\n",
              "      <th>gender</th>\n",
              "      <th>age</th>\n",
              "      <th>language</th>\n",
              "      <th>country_destination</th>\n",
              "    </tr>\n",
              "  </thead>\n",
              "  <tbody>\n",
              "    <tr>\n",
              "      <th>0</th>\n",
              "      <td>2010-06-28</td>\n",
              "      <td>NaN</td>\n",
              "      <td>-unknown-</td>\n",
              "      <td>NaN</td>\n",
              "      <td>en</td>\n",
              "      <td>NDF</td>\n",
              "    </tr>\n",
              "    <tr>\n",
              "      <th>1</th>\n",
              "      <td>2011-05-25</td>\n",
              "      <td>NaN</td>\n",
              "      <td>MALE</td>\n",
              "      <td>38.0</td>\n",
              "      <td>en</td>\n",
              "      <td>NDF</td>\n",
              "    </tr>\n",
              "    <tr>\n",
              "      <th>2</th>\n",
              "      <td>2010-09-28</td>\n",
              "      <td>2010-08-02</td>\n",
              "      <td>FEMALE</td>\n",
              "      <td>56.0</td>\n",
              "      <td>en</td>\n",
              "      <td>US</td>\n",
              "    </tr>\n",
              "    <tr>\n",
              "      <th>3</th>\n",
              "      <td>2011-12-05</td>\n",
              "      <td>2012-09-08</td>\n",
              "      <td>FEMALE</td>\n",
              "      <td>42.0</td>\n",
              "      <td>en</td>\n",
              "      <td>other</td>\n",
              "    </tr>\n",
              "    <tr>\n",
              "      <th>4</th>\n",
              "      <td>2010-09-14</td>\n",
              "      <td>2010-02-18</td>\n",
              "      <td>-unknown-</td>\n",
              "      <td>41.0</td>\n",
              "      <td>en</td>\n",
              "      <td>US</td>\n",
              "    </tr>\n",
              "  </tbody>\n",
              "</table>\n",
              "</div>"
            ],
            "text/plain": [
              "  date_account_created date_first_booking     gender   age language  \\\n",
              "0           2010-06-28                NaN  -unknown-   NaN       en   \n",
              "1           2011-05-25                NaN       MALE  38.0       en   \n",
              "2           2010-09-28         2010-08-02     FEMALE  56.0       en   \n",
              "3           2011-12-05         2012-09-08     FEMALE  42.0       en   \n",
              "4           2010-09-14         2010-02-18  -unknown-  41.0       en   \n",
              "\n",
              "  country_destination  \n",
              "0                 NDF  \n",
              "1                 NDF  \n",
              "2                  US  \n",
              "3               other  \n",
              "4                  US  "
            ]
          },
          "metadata": {
            "tags": []
          },
          "execution_count": 5
        }
      ]
    },
    {
      "metadata": {
        "id": "qIlxWTtx86CF",
        "colab_type": "code",
        "outputId": "e3432779-b4e6-40cf-ab66-b75989c63a93",
        "colab": {
          "base_uri": "https://localhost:8080/",
          "height": 102
        }
      },
      "cell_type": "code",
      "source": [
        "#first looking at the gender values, we must replace -unknown- as a NaN value\n",
        "train_users.gender.replace('-unknown-', np.nan, inplace=True)\n",
        "train_users['gender'].head()\n",
        "train_users['gender'].describe()"
      ],
      "execution_count": 0,
      "outputs": [
        {
          "output_type": "execute_result",
          "data": {
            "text/plain": [
              "count     117763\n",
              "unique         3\n",
              "top       FEMALE\n",
              "freq       63041\n",
              "Name: gender, dtype: object"
            ]
          },
          "metadata": {
            "tags": []
          },
          "execution_count": 6
        }
      ]
    },
    {
      "metadata": {
        "id": "RxrJ-r3zSLm4",
        "colab_type": "code",
        "outputId": "e276c62b-0c42-4c69-c506-47939ce516f8",
        "colab": {
          "base_uri": "https://localhost:8080/",
          "height": 429
        }
      },
      "cell_type": "code",
      "source": [
        "#see the distribution of gender in the training set\n",
        "plot_gender = sns.countplot(train_users['gender'])\n",
        "print(\"THERE ARE \" + str(sum((train_users['gender'] == 'FEMALE'))) + \" FEMALES IN THIS DATASET\")\n",
        "print(\"THERE ARE \" + str(sum((train_users['gender'] == 'MALE'))) + \" MALES IN THIS DATASET\")\n"
      ],
      "execution_count": 0,
      "outputs": [
        {
          "output_type": "stream",
          "text": [
            "/usr/local/lib/python3.6/dist-packages/seaborn/categorical.py:1428: FutureWarning: remove_na is deprecated and is a private function. Do not use.\n",
            "  stat_data = remove_na(group_data)\n"
          ],
          "name": "stderr"
        },
        {
          "output_type": "stream",
          "text": [
            "THERE ARE 63041 FEMALES IN THIS DATASET\n",
            "THERE ARE 54440 MALES IN THIS DATASET\n"
          ],
          "name": "stdout"
        },
        {
          "output_type": "display_data",
          "data": {
            "image/png": "[encoded data removed]",
            "text/plain": [
              "<matplotlib.figure.Figure at 0x7f6736703e80>"
            ]
          },
          "metadata": {
            "tags": []
          }
        }
      ]
    },
    {
      "metadata": {
        "id": "sXPZhjrWSPIZ",
        "colab_type": "code",
        "outputId": "72f7d122-ea90-42e6-c41b-f843402c67b8",
        "colab": {
          "base_uri": "https://localhost:8080/",
          "height": 170
        }
      },
      "cell_type": "code",
      "source": [
        "#find out values for the age column\n",
        "print(train_users['age'].describe())\n",
        "#set outliers to NaN values if they are older than 90 years old and younger than 14\n",
        "train_users.loc[train_users.age > 90, 'age'] = np.nan\n",
        "train_users.loc[train_users.age < 14, 'age'] = np.nan"
      ],
      "execution_count": 0,
      "outputs": [
        {
          "output_type": "stream",
          "text": [
            "count    125461.000000\n",
            "mean         49.668335\n",
            "std         155.666612\n",
            "min           1.000000\n",
            "25%          28.000000\n",
            "50%          34.000000\n",
            "75%          43.000000\n",
            "max        2014.000000\n",
            "Name: age, dtype: float64\n"
          ],
          "name": "stdout"
        }
      ]
    },
    {
      "metadata": {
        "id": "sZUS7M0CdnXo",
        "colab_type": "code",
        "outputId": "43e94aec-17b9-424c-f18c-b1cfbcafc76b",
        "colab": {
          "base_uri": "https://localhost:8080/",
          "height": 565
        }
      },
      "cell_type": "code",
      "source": [
        "#visualize the age in this dataset\n",
        "plot_age = sns.countplot(train_users['age'])\n",
        "#limiting tick frequency for ease of readability \n",
        "for ind, label in enumerate(plot_age.get_xticklabels()):\n",
        "    if ind % 5 == 0:\n",
        "        label.set_visible(True)\n",
        "    else:\n",
        "        label.set_visible(False)\n",
        "        \n",
        "print(train_users['age'].describe())\n",
        "\n",
        "plot_age "
      ],
      "execution_count": 0,
      "outputs": [
        {
          "output_type": "stream",
          "text": [
            "/usr/local/lib/python3.6/dist-packages/seaborn/categorical.py:1428: FutureWarning: remove_na is deprecated and is a private function. Do not use.\n",
            "  stat_data = remove_na(group_data)\n"
          ],
          "name": "stderr"
        },
        {
          "output_type": "stream",
          "text": [
            "count    122861.000000\n",
            "mean         36.463809\n",
            "std          11.455232\n",
            "min          15.000000\n",
            "25%          28.000000\n",
            "50%          33.000000\n",
            "75%          42.000000\n",
            "max          90.000000\n",
            "Name: age, dtype: float64\n"
          ],
          "name": "stdout"
        },
        {
          "output_type": "execute_result",
          "data": {
            "text/plain": [
              "<matplotlib.axes._subplots.AxesSubplot at 0x7f6733a233c8>"
            ]
          },
          "metadata": {
            "tags": []
          },
          "execution_count": 9
        },
        {
          "output_type": "display_data",
          "data": {
            "image/png": "[encoded data removed]",
            "text/plain": [
              "<matplotlib.figure.Figure at 0x7f6732df8ac8>"
            ]
          },
          "metadata": {
            "tags": []
          }
        }
      ]
    },
    {
      "metadata": {
        "id": "VThVm8SFU-7l",
        "colab_type": "code",
        "outputId": "087cc291-75eb-40de-9800-173d04f68c90",
        "colab": {
          "base_uri": "https://localhost:8080/",
          "height": 480
        }
      },
      "cell_type": "code",
      "source": [
        "#visualize where airbnb guests are going to\n",
        "plot_dest = sns.countplot(train_users['country_destination'])\n",
        "print(train_users['country_destination'].describe())"
      ],
      "execution_count": 0,
      "outputs": [
        {
          "output_type": "stream",
          "text": [
            "/usr/local/lib/python3.6/dist-packages/seaborn/categorical.py:1428: FutureWarning: remove_na is deprecated and is a private function. Do not use.\n",
            "  stat_data = remove_na(group_data)\n"
          ],
          "name": "stderr"
        },
        {
          "output_type": "stream",
          "text": [
            "count     213451\n",
            "unique        12\n",
            "top          NDF\n",
            "freq      124543\n",
            "Name: country_destination, dtype: object\n"
          ],
          "name": "stdout"
        },
        {
          "output_type": "display_data",
          "data": {
            "image/png": "[encoded data removed]",
            "text/plain": [
              "<matplotlib.figure.Figure at 0x7f6732dcaeb8>"
            ]
          },
          "metadata": {
            "tags": []
          }
        }
      ]
    },
    {
      "metadata": {
        "id": "Sem3xhVoLecc",
        "colab_type": "code",
        "outputId": "b5f4e74e-328f-4476-d37c-c9e260ed4c7c",
        "colab": {
          "base_uri": "https://localhost:8080/",
          "height": 552
        }
      },
      "cell_type": "code",
      "source": [
        "#box plot of which ages that visit each country\n",
        "fig, ax = plt.subplots(nrows=1, ncols=1,figsize=(15, 8))\n",
        "sns.boxplot(x='country_destination', y='age', data=train_users, palette=\"muted\", ax =ax)\n",
        "ax.set_ylim([10, 60])"
      ],
      "execution_count": 0,
      "outputs": [
        {
          "output_type": "stream",
          "text": [
            "/usr/local/lib/python3.6/dist-packages/seaborn/categorical.py:454: FutureWarning: remove_na is deprecated and is a private function. Do not use.\n",
            "  box_data = remove_na(group_data)\n"
          ],
          "name": "stderr"
        },
        {
          "output_type": "execute_result",
          "data": {
            "text/plain": [
              "(10, 60)"
            ]
          },
          "metadata": {
            "tags": []
          },
          "execution_count": 11
        },
        {
          "output_type": "display_data",
          "data": {
            "image/png": "[encoded data removed]",
            "text/plain": [
              "<matplotlib.figure.Figure at 0x7f6732ff0c18>"
            ]
          },
          "metadata": {
            "tags": []
          }
        }
      ]
    },
    {
      "metadata": {
        "id": "z2LwHOn2Vy7N",
        "colab_type": "code",
        "colab": {}
      },
      "cell_type": "code",
      "source": [
        "#see where male and females visit the most\n",
        "\n",
        "#sum of females and males\n",
        "female = sum(train_users['gender'] == 'FEMALE')\n",
        "male = sum(train_users['gender'] == 'MALE')\n",
        "\n",
        "#total count of males and females to which country they visit\n",
        "female_dest = train_users.loc[train_users['gender'] == 'FEMALE', 'country_destination'].value_counts()\n",
        "male_dest = train_users.loc[train_users['gender'] == 'MALE', 'country_destination'].value_counts()"
      ],
      "execution_count": 0,
      "outputs": []
    },
    {
      "metadata": {
        "id": "bcNaiGwyWBQX",
        "colab_type": "code",
        "outputId": "39e6b68c-14ba-4b85-87b8-a06c5d205917",
        "colab": {
          "base_uri": "https://localhost:8080/",
          "height": 391
        }
      },
      "cell_type": "code",
      "source": [
        "#plot country_destination and number of males/females\n",
        "male_dest.plot(kind='bar', width=.35, color='b', position=0, label='Male')\n",
        "female_dest.plot(kind='bar', width=.35, color='m', position=1, label='Female')\n",
        "plt.legend()\n",
        "plt.xlabel('Destination Country')\n",
        "plt.ylabel('Count')"
      ],
      "execution_count": 0,
      "outputs": [
        {
          "output_type": "execute_result",
          "data": {
            "text/plain": [
              "Text(0,0.5,'Count')"
            ]
          },
          "metadata": {
            "tags": []
          },
          "execution_count": 13
        },
        {
          "output_type": "display_data",
          "data": {
            "image/png": "[encoded data removed]",
            "text/plain": [
              "<matplotlib.figure.Figure at 0x7f67339cffd0>"
            ]
          },
          "metadata": {
            "tags": []
          }
        }
      ]
    },
    {
      "metadata": {
        "id": "mODgo32lWV2P",
        "colab_type": "text"
      },
      "cell_type": "markdown",
      "source": [
        "The age distribution seems to be resembling a normal distribution, with the average age hovering around 30 years old. "
      ]
    },
    {
      "metadata": {
        "id": "HCSoYmrFWetQ",
        "colab_type": "code",
        "outputId": "f59bdb32-e28b-470c-d26b-791118bb5f30",
        "colab": {
          "base_uri": "https://localhost:8080/",
          "height": 170
        }
      },
      "cell_type": "code",
      "source": [
        "#date = date_first_booking - date_account_created\n",
        "train_users['date_account_created'] = pd.to_datetime(train_users['date_account_created'])\n",
        "train_users['date_first_booking'] = pd.to_datetime(train_users['date_first_booking'])\n",
        "train_users['date'] = train_users['date_first_booking'] - train_users['date_account_created']\n",
        "train_users['date'] = train_users['date'].dt.days\n",
        "train_users['date'].describe()"
      ],
      "execution_count": 0,
      "outputs": [
        {
          "output_type": "execute_result",
          "data": {
            "text/plain": [
              "count    88908.000000\n",
              "mean        44.362498\n",
              "std         87.499561\n",
              "min       -349.000000\n",
              "25%          1.000000\n",
              "50%          3.000000\n",
              "75%         29.000000\n",
              "max        365.000000\n",
              "Name: date, dtype: float64"
            ]
          },
          "metadata": {
            "tags": []
          },
          "execution_count": 14
        }
      ]
    },
    {
      "metadata": {
        "id": "2wRSl12mzK9B",
        "colab_type": "code",
        "colab": {}
      },
      "cell_type": "code",
      "source": [
        "#drop rows with negative date\n",
        "train_users = train_users[(train_users['date'] >= 0) | train_users['date'].isnull()]"
      ],
      "execution_count": 0,
      "outputs": []
    },
    {
      "metadata": {
        "id": "4UBqVJ-9gyfI",
        "colab_type": "code",
        "outputId": "f424f16f-cdac-428b-ec43-fe80a795a45c",
        "colab": {
          "base_uri": "https://localhost:8080/",
          "height": 204
        }
      },
      "cell_type": "code",
      "source": [
        "train_users.head()"
      ],
      "execution_count": 0,
      "outputs": [
        {
          "output_type": "execute_result",
          "data": {
            "text/html": [
              "<div>\n",
              "<style scoped>\n",
              "    .dataframe tbody tr th:only-of-type {\n",
              "        vertical-align: middle;\n",
              "    }\n",
              "\n",
              "    .dataframe tbody tr th {\n",
              "        vertical-align: top;\n",
              "    }\n",
              "\n",
              "    .dataframe thead th {\n",
              "        text-align: right;\n",
              "    }\n",
              "</style>\n",
              "<table border=\"1\" class=\"dataframe\">\n",
              "  <thead>\n",
              "    <tr style=\"text-align: right;\">\n",
              "      <th></th>\n",
              "      <th>date_account_created</th>\n",
              "      <th>date_first_booking</th>\n",
              "      <th>gender</th>\n",
              "      <th>age</th>\n",
              "      <th>language</th>\n",
              "      <th>country_destination</th>\n",
              "      <th>date</th>\n",
              "    </tr>\n",
              "  </thead>\n",
              "  <tbody>\n",
              "    <tr>\n",
              "      <th>0</th>\n",
              "      <td>2010-06-28</td>\n",
              "      <td>NaT</td>\n",
              "      <td>NaN</td>\n",
              "      <td>NaN</td>\n",
              "      <td>en</td>\n",
              "      <td>NDF</td>\n",
              "      <td>NaN</td>\n",
              "    </tr>\n",
              "    <tr>\n",
              "      <th>1</th>\n",
              "      <td>2011-05-25</td>\n",
              "      <td>NaT</td>\n",
              "      <td>MALE</td>\n",
              "      <td>38.0</td>\n",
              "      <td>en</td>\n",
              "      <td>NDF</td>\n",
              "      <td>NaN</td>\n",
              "    </tr>\n",
              "    <tr>\n",
              "      <th>3</th>\n",
              "      <td>2011-12-05</td>\n",
              "      <td>2012-09-08</td>\n",
              "      <td>FEMALE</td>\n",
              "      <td>42.0</td>\n",
              "      <td>en</td>\n",
              "      <td>other</td>\n",
              "      <td>278.0</td>\n",
              "    </tr>\n",
              "    <tr>\n",
              "      <th>5</th>\n",
              "      <td>2010-01-01</td>\n",
              "      <td>2010-01-02</td>\n",
              "      <td>NaN</td>\n",
              "      <td>NaN</td>\n",
              "      <td>en</td>\n",
              "      <td>US</td>\n",
              "      <td>1.0</td>\n",
              "    </tr>\n",
              "    <tr>\n",
              "      <th>6</th>\n",
              "      <td>2010-01-02</td>\n",
              "      <td>2010-01-05</td>\n",
              "      <td>FEMALE</td>\n",
              "      <td>46.0</td>\n",
              "      <td>en</td>\n",
              "      <td>US</td>\n",
              "      <td>3.0</td>\n",
              "    </tr>\n",
              "  </tbody>\n",
              "</table>\n",
              "</div>"
            ],
            "text/plain": [
              "  date_account_created date_first_booking  gender   age language  \\\n",
              "0           2010-06-28                NaT     NaN   NaN       en   \n",
              "1           2011-05-25                NaT    MALE  38.0       en   \n",
              "3           2011-12-05         2012-09-08  FEMALE  42.0       en   \n",
              "5           2010-01-01         2010-01-02     NaN   NaN       en   \n",
              "6           2010-01-02         2010-01-05  FEMALE  46.0       en   \n",
              "\n",
              "  country_destination   date  \n",
              "0                 NDF    NaN  \n",
              "1                 NDF    NaN  \n",
              "3               other  278.0  \n",
              "5                  US    1.0  \n",
              "6                  US    3.0  "
            ]
          },
          "metadata": {
            "tags": []
          },
          "execution_count": 16
        }
      ]
    },
    {
      "metadata": {
        "id": "FTnu4iyM0l4j",
        "colab_type": "code",
        "outputId": "cb9462f7-e103-47f8-f33f-0f0fb25291d1",
        "colab": {
          "base_uri": "https://localhost:8080/",
          "height": 204
        }
      },
      "cell_type": "code",
      "source": [
        "#drop rows with NaN values\n",
        "train_users = train_users.dropna(subset=['gender','age','language'], how='any')\n",
        "train_users.head()"
      ],
      "execution_count": 0,
      "outputs": [
        {
          "output_type": "execute_result",
          "data": {
            "text/html": [
              "<div>\n",
              "<style scoped>\n",
              "    .dataframe tbody tr th:only-of-type {\n",
              "        vertical-align: middle;\n",
              "    }\n",
              "\n",
              "    .dataframe tbody tr th {\n",
              "        vertical-align: top;\n",
              "    }\n",
              "\n",
              "    .dataframe thead th {\n",
              "        text-align: right;\n",
              "    }\n",
              "</style>\n",
              "<table border=\"1\" class=\"dataframe\">\n",
              "  <thead>\n",
              "    <tr style=\"text-align: right;\">\n",
              "      <th></th>\n",
              "      <th>date_account_created</th>\n",
              "      <th>date_first_booking</th>\n",
              "      <th>gender</th>\n",
              "      <th>age</th>\n",
              "      <th>language</th>\n",
              "      <th>country_destination</th>\n",
              "      <th>date</th>\n",
              "    </tr>\n",
              "  </thead>\n",
              "  <tbody>\n",
              "    <tr>\n",
              "      <th>1</th>\n",
              "      <td>2011-05-25</td>\n",
              "      <td>NaT</td>\n",
              "      <td>MALE</td>\n",
              "      <td>38.0</td>\n",
              "      <td>en</td>\n",
              "      <td>NDF</td>\n",
              "      <td>NaN</td>\n",
              "    </tr>\n",
              "    <tr>\n",
              "      <th>3</th>\n",
              "      <td>2011-12-05</td>\n",
              "      <td>2012-09-08</td>\n",
              "      <td>FEMALE</td>\n",
              "      <td>42.0</td>\n",
              "      <td>en</td>\n",
              "      <td>other</td>\n",
              "      <td>278.0</td>\n",
              "    </tr>\n",
              "    <tr>\n",
              "      <th>6</th>\n",
              "      <td>2010-01-02</td>\n",
              "      <td>2010-01-05</td>\n",
              "      <td>FEMALE</td>\n",
              "      <td>46.0</td>\n",
              "      <td>en</td>\n",
              "      <td>US</td>\n",
              "      <td>3.0</td>\n",
              "    </tr>\n",
              "    <tr>\n",
              "      <th>7</th>\n",
              "      <td>2010-01-03</td>\n",
              "      <td>2010-01-13</td>\n",
              "      <td>FEMALE</td>\n",
              "      <td>47.0</td>\n",
              "      <td>en</td>\n",
              "      <td>US</td>\n",
              "      <td>10.0</td>\n",
              "    </tr>\n",
              "    <tr>\n",
              "      <th>8</th>\n",
              "      <td>2010-01-04</td>\n",
              "      <td>2010-07-29</td>\n",
              "      <td>FEMALE</td>\n",
              "      <td>50.0</td>\n",
              "      <td>en</td>\n",
              "      <td>US</td>\n",
              "      <td>206.0</td>\n",
              "    </tr>\n",
              "  </tbody>\n",
              "</table>\n",
              "</div>"
            ],
            "text/plain": [
              "  date_account_created date_first_booking  gender   age language  \\\n",
              "1           2011-05-25                NaT    MALE  38.0       en   \n",
              "3           2011-12-05         2012-09-08  FEMALE  42.0       en   \n",
              "6           2010-01-02         2010-01-05  FEMALE  46.0       en   \n",
              "7           2010-01-03         2010-01-13  FEMALE  47.0       en   \n",
              "8           2010-01-04         2010-07-29  FEMALE  50.0       en   \n",
              "\n",
              "  country_destination   date  \n",
              "1                 NDF    NaN  \n",
              "3               other  278.0  \n",
              "6                  US    3.0  \n",
              "7                  US   10.0  \n",
              "8                  US  206.0  "
            ]
          },
          "metadata": {
            "tags": []
          },
          "execution_count": 17
        }
      ]
    },
    {
      "metadata": {
        "id": "nUODhtxIMVcZ",
        "colab_type": "code",
        "colab": {}
      },
      "cell_type": "code",
      "source": [
        "#one-hot encode genders (male, female, other)\n",
        "gender = pd.get_dummies(train_users['gender'])\n",
        "train_users = train_users.merge(gender,left_index = True, right_index = True)"
      ],
      "execution_count": 0,
      "outputs": []
    },
    {
      "metadata": {
        "id": "D2BxMLGjQhOY",
        "colab_type": "code",
        "colab": {}
      },
      "cell_type": "code",
      "source": [
        "#one-hot encode country-destinations into a single column\n",
        "#create a dictionary of values corresponding to each country destination\n",
        "#{'other': 0, 'US': 1, 'FR': 2, 'CA': 3, 'GB':4, 'ES':5, 'IT': 6, 'PT': 7, 'NL': 8, 'DE': 9, 'AU': 10, 'NDF': 11}\n",
        "\n",
        "# Assigning a value to our countries \n",
        "bool = train_users.country_destination == 'US'\n",
        "column_name = 'country_destination'\n",
        "train_users.loc[bool, column_name] = 1\n",
        "\n",
        "bool = train_users.country_destination == 'FR'\n",
        "column_name = 'country_destination'\n",
        "train_users.loc[bool, column_name] = 2\n",
        "\n",
        "bool = train_users.country_destination == 'CA'\n",
        "column_name = 'country_destination'\n",
        "train_users.loc[bool, column_name] = 3\n",
        "\n",
        "bool = train_users.country_destination == 'GB'\n",
        "column_name = 'country_destination'\n",
        "train_users.loc[bool, column_name] = 4\n",
        "\n",
        "bool = train_users.country_destination == 'ES'\n",
        "column_name = 'country_destination'\n",
        "train_users.loc[bool, column_name] = 5\n",
        "\n",
        "bool = train_users.country_destination == 'IT'\n",
        "column_name = 'country_destination'\n",
        "train_users.loc[bool, column_name] = 6\n",
        "\n",
        "bool = train_users.country_destination == 'PT'\n",
        "column_name = 'country_destination'\n",
        "train_users.loc[bool, column_name] = 7\n",
        "\n",
        "bool = train_users.country_destination == 'NL'\n",
        "column_name = 'country_destination'\n",
        "train_users.loc[bool, column_name] = 8\n",
        "\n",
        "bool = train_users.country_destination == 'DE'\n",
        "column_name = 'country_destination'\n",
        "train_users.loc[bool, column_name] = 9\n",
        "\n",
        "bool = train_users.country_destination == 'AU'\n",
        "column_name = 'country_destination'\n",
        "train_users.loc[bool, column_name] = 10\n",
        "\n",
        "bool = train_users.country_destination == 'other'\n",
        "column_name = 'country_destination'\n",
        "train_users.loc[bool, column_name] = 0\n",
        "\n",
        "bool = train_users.country_destination == 'NDF'\n",
        "column_name = 'country_destination'\n",
        "train_users.loc[bool, column_name] = 11"
      ],
      "execution_count": 0,
      "outputs": []
    },
    {
      "metadata": {
        "id": "SRiRYRviU785",
        "colab_type": "code",
        "colab": {}
      },
      "cell_type": "code",
      "source": [
        "train_users['month_first_booked'] = pd.DatetimeIndex(train_users['date_first_booking']).month\n",
        "train_users = train_users.drop([\"gender\", 'date_account_created'], axis=1)\n",
        "#convert language to binary values where 1 is english and 0 if otherwise\n",
        "train_users['language'] = np.where(train_users['language'] == 'en', 1, 0)"
      ],
      "execution_count": 0,
      "outputs": []
    },
    {
      "metadata": {
        "id": "Qkqd12zNDSZl",
        "colab_type": "code",
        "colab": {}
      },
      "cell_type": "code",
      "source": [
        "#one-hot encode months\n",
        "month_first = pd.get_dummies(train_users['month_first_booked'])\n",
        "month_first.columns  = ['Jan', 'Feb', 'Mar', 'Apr', 'May', 'Jun', 'Jul', 'Aug', 'Sept', 'Oct', 'Nov', 'Dec']\n",
        "month_first['NaT'] = np.where(pd.isna(train_users['month_first_booked']), 1, 0)\n",
        "train_users = train_users.merge(month_first,left_index = True, right_index = True)"
      ],
      "execution_count": 0,
      "outputs": []
    },
    {
      "metadata": {
        "id": "SH_iu6BzD2ab",
        "colab_type": "code",
        "outputId": "7129e25a-339c-4844-a854-d24d69688682",
        "colab": {
          "base_uri": "https://localhost:8080/",
          "height": 204
        }
      },
      "cell_type": "code",
      "source": [
        "#clean up columns we do not need\n",
        "train_users = train_users.drop(['date_first_booking','month_first_booked'], axis=1)\n",
        "\n",
        "#fill in the NaN values in age column with the average age\n",
        "avg = np.mean(train_users['age']).astype(int)\n",
        "train_users['age'] = train_users['age'].fillna(avg)\n",
        "\n",
        "#fill in NaT values in date column with a large number\n",
        "train_users['date'] = train_users['date'].fillna(-1)\n",
        "\n",
        "#reformatting our final cleaned dataset\n",
        "cd = train_users[\"country_destination\"]\n",
        "train_users = train_users.drop([\"country_destination\"], axis=1)\n",
        "train_users[\"country_destination\"] = cd\n",
        "train_users.head()"
      ],
      "execution_count": 0,
      "outputs": [
        {
          "output_type": "execute_result",
          "data": {
            "text/html": [
              "<div>\n",
              "<style scoped>\n",
              "    .dataframe tbody tr th:only-of-type {\n",
              "        vertical-align: middle;\n",
              "    }\n",
              "\n",
              "    .dataframe tbody tr th {\n",
              "        vertical-align: top;\n",
              "    }\n",
              "\n",
              "    .dataframe thead th {\n",
              "        text-align: right;\n",
              "    }\n",
              "</style>\n",
              "<table border=\"1\" class=\"dataframe\">\n",
              "  <thead>\n",
              "    <tr style=\"text-align: right;\">\n",
              "      <th></th>\n",
              "      <th>age</th>\n",
              "      <th>language</th>\n",
              "      <th>date</th>\n",
              "      <th>FEMALE</th>\n",
              "      <th>MALE</th>\n",
              "      <th>OTHER</th>\n",
              "      <th>Jan</th>\n",
              "      <th>Feb</th>\n",
              "      <th>Mar</th>\n",
              "      <th>Apr</th>\n",
              "      <th>May</th>\n",
              "      <th>Jun</th>\n",
              "      <th>Jul</th>\n",
              "      <th>Aug</th>\n",
              "      <th>Sept</th>\n",
              "      <th>Oct</th>\n",
              "      <th>Nov</th>\n",
              "      <th>Dec</th>\n",
              "      <th>NaT</th>\n",
              "      <th>country_destination</th>\n",
              "    </tr>\n",
              "  </thead>\n",
              "  <tbody>\n",
              "    <tr>\n",
              "      <th>1</th>\n",
              "      <td>38.0</td>\n",
              "      <td>1</td>\n",
              "      <td>-1.0</td>\n",
              "      <td>0</td>\n",
              "      <td>1</td>\n",
              "      <td>0</td>\n",
              "      <td>0</td>\n",
              "      <td>0</td>\n",
              "      <td>0</td>\n",
              "      <td>0</td>\n",
              "      <td>0</td>\n",
              "      <td>0</td>\n",
              "      <td>0</td>\n",
              "      <td>0</td>\n",
              "      <td>0</td>\n",
              "      <td>0</td>\n",
              "      <td>0</td>\n",
              "      <td>0</td>\n",
              "      <td>1</td>\n",
              "      <td>11</td>\n",
              "    </tr>\n",
              "    <tr>\n",
              "      <th>3</th>\n",
              "      <td>42.0</td>\n",
              "      <td>1</td>\n",
              "      <td>278.0</td>\n",
              "      <td>1</td>\n",
              "      <td>0</td>\n",
              "      <td>0</td>\n",
              "      <td>0</td>\n",
              "      <td>0</td>\n",
              "      <td>0</td>\n",
              "      <td>0</td>\n",
              "      <td>0</td>\n",
              "      <td>0</td>\n",
              "      <td>0</td>\n",
              "      <td>0</td>\n",
              "      <td>1</td>\n",
              "      <td>0</td>\n",
              "      <td>0</td>\n",
              "      <td>0</td>\n",
              "      <td>0</td>\n",
              "      <td>0</td>\n",
              "    </tr>\n",
              "    <tr>\n",
              "      <th>6</th>\n",
              "      <td>46.0</td>\n",
              "      <td>1</td>\n",
              "      <td>3.0</td>\n",
              "      <td>1</td>\n",
              "      <td>0</td>\n",
              "      <td>0</td>\n",
              "      <td>1</td>\n",
              "      <td>0</td>\n",
              "      <td>0</td>\n",
              "      <td>0</td>\n",
              "      <td>0</td>\n",
              "      <td>0</td>\n",
              "      <td>0</td>\n",
              "      <td>0</td>\n",
              "      <td>0</td>\n",
              "      <td>0</td>\n",
              "      <td>0</td>\n",
              "      <td>0</td>\n",
              "      <td>0</td>\n",
              "      <td>1</td>\n",
              "    </tr>\n",
              "    <tr>\n",
              "      <th>7</th>\n",
              "      <td>47.0</td>\n",
              "      <td>1</td>\n",
              "      <td>10.0</td>\n",
              "      <td>1</td>\n",
              "      <td>0</td>\n",
              "      <td>0</td>\n",
              "      <td>1</td>\n",
              "      <td>0</td>\n",
              "      <td>0</td>\n",
              "      <td>0</td>\n",
              "      <td>0</td>\n",
              "      <td>0</td>\n",
              "      <td>0</td>\n",
              "      <td>0</td>\n",
              "      <td>0</td>\n",
              "      <td>0</td>\n",
              "      <td>0</td>\n",
              "      <td>0</td>\n",
              "      <td>0</td>\n",
              "      <td>1</td>\n",
              "    </tr>\n",
              "    <tr>\n",
              "      <th>8</th>\n",
              "      <td>50.0</td>\n",
              "      <td>1</td>\n",
              "      <td>206.0</td>\n",
              "      <td>1</td>\n",
              "      <td>0</td>\n",
              "      <td>0</td>\n",
              "      <td>0</td>\n",
              "      <td>0</td>\n",
              "      <td>0</td>\n",
              "      <td>0</td>\n",
              "      <td>0</td>\n",
              "      <td>0</td>\n",
              "      <td>1</td>\n",
              "      <td>0</td>\n",
              "      <td>0</td>\n",
              "      <td>0</td>\n",
              "      <td>0</td>\n",
              "      <td>0</td>\n",
              "      <td>0</td>\n",
              "      <td>1</td>\n",
              "    </tr>\n",
              "  </tbody>\n",
              "</table>\n",
              "</div>"
            ],
            "text/plain": [
              "    age  language   date  FEMALE  MALE  OTHER  Jan  Feb  Mar  Apr  May  Jun  \\\n",
              "1  38.0         1   -1.0       0     1      0    0    0    0    0    0    0   \n",
              "3  42.0         1  278.0       1     0      0    0    0    0    0    0    0   \n",
              "6  46.0         1    3.0       1     0      0    1    0    0    0    0    0   \n",
              "7  47.0         1   10.0       1     0      0    1    0    0    0    0    0   \n",
              "8  50.0         1  206.0       1     0      0    0    0    0    0    0    0   \n",
              "\n",
              "   Jul  Aug  Sept  Oct  Nov  Dec  NaT  country_destination  \n",
              "1    0    0     0    0    0    0    1                   11  \n",
              "3    0    0     1    0    0    0    0                    0  \n",
              "6    0    0     0    0    0    0    0                    1  \n",
              "7    0    0     0    0    0    0    0                    1  \n",
              "8    1    0     0    0    0    0    0                    1  "
            ]
          },
          "metadata": {
            "tags": []
          },
          "execution_count": 22
        }
      ]
    },
    {
      "metadata": {
        "id": "jQPeuRGcukWP",
        "colab_type": "code",
        "outputId": "56768b2f-f663-469c-d794-7d6c7d3d7f8c",
        "colab": {
          "base_uri": "https://localhost:8080/",
          "height": 204
        }
      },
      "cell_type": "code",
      "source": [
        "train_users.tail()"
      ],
      "execution_count": 0,
      "outputs": [
        {
          "output_type": "execute_result",
          "data": {
            "text/html": [
              "<div>\n",
              "<style scoped>\n",
              "    .dataframe tbody tr th:only-of-type {\n",
              "        vertical-align: middle;\n",
              "    }\n",
              "\n",
              "    .dataframe tbody tr th {\n",
              "        vertical-align: top;\n",
              "    }\n",
              "\n",
              "    .dataframe thead th {\n",
              "        text-align: right;\n",
              "    }\n",
              "</style>\n",
              "<table border=\"1\" class=\"dataframe\">\n",
              "  <thead>\n",
              "    <tr style=\"text-align: right;\">\n",
              "      <th></th>\n",
              "      <th>age</th>\n",
              "      <th>language</th>\n",
              "      <th>date</th>\n",
              "      <th>FEMALE</th>\n",
              "      <th>MALE</th>\n",
              "      <th>OTHER</th>\n",
              "      <th>Jan</th>\n",
              "      <th>Feb</th>\n",
              "      <th>Mar</th>\n",
              "      <th>Apr</th>\n",
              "      <th>May</th>\n",
              "      <th>Jun</th>\n",
              "      <th>Jul</th>\n",
              "      <th>Aug</th>\n",
              "      <th>Sept</th>\n",
              "      <th>Oct</th>\n",
              "      <th>Nov</th>\n",
              "      <th>Dec</th>\n",
              "      <th>NaT</th>\n",
              "      <th>country_destination</th>\n",
              "    </tr>\n",
              "  </thead>\n",
              "  <tbody>\n",
              "    <tr>\n",
              "      <th>213440</th>\n",
              "      <td>24.0</td>\n",
              "      <td>1</td>\n",
              "      <td>-1.0</td>\n",
              "      <td>1</td>\n",
              "      <td>0</td>\n",
              "      <td>0</td>\n",
              "      <td>0</td>\n",
              "      <td>0</td>\n",
              "      <td>0</td>\n",
              "      <td>0</td>\n",
              "      <td>0</td>\n",
              "      <td>0</td>\n",
              "      <td>0</td>\n",
              "      <td>0</td>\n",
              "      <td>0</td>\n",
              "      <td>0</td>\n",
              "      <td>0</td>\n",
              "      <td>0</td>\n",
              "      <td>1</td>\n",
              "      <td>11</td>\n",
              "    </tr>\n",
              "    <tr>\n",
              "      <th>213441</th>\n",
              "      <td>34.0</td>\n",
              "      <td>1</td>\n",
              "      <td>44.0</td>\n",
              "      <td>1</td>\n",
              "      <td>0</td>\n",
              "      <td>0</td>\n",
              "      <td>0</td>\n",
              "      <td>0</td>\n",
              "      <td>0</td>\n",
              "      <td>0</td>\n",
              "      <td>0</td>\n",
              "      <td>0</td>\n",
              "      <td>0</td>\n",
              "      <td>1</td>\n",
              "      <td>0</td>\n",
              "      <td>0</td>\n",
              "      <td>0</td>\n",
              "      <td>0</td>\n",
              "      <td>0</td>\n",
              "      <td>5</td>\n",
              "    </tr>\n",
              "    <tr>\n",
              "      <th>213443</th>\n",
              "      <td>36.0</td>\n",
              "      <td>1</td>\n",
              "      <td>13.0</td>\n",
              "      <td>1</td>\n",
              "      <td>0</td>\n",
              "      <td>0</td>\n",
              "      <td>0</td>\n",
              "      <td>0</td>\n",
              "      <td>0</td>\n",
              "      <td>0</td>\n",
              "      <td>0</td>\n",
              "      <td>0</td>\n",
              "      <td>1</td>\n",
              "      <td>0</td>\n",
              "      <td>0</td>\n",
              "      <td>0</td>\n",
              "      <td>0</td>\n",
              "      <td>0</td>\n",
              "      <td>0</td>\n",
              "      <td>1</td>\n",
              "    </tr>\n",
              "    <tr>\n",
              "      <th>213445</th>\n",
              "      <td>23.0</td>\n",
              "      <td>1</td>\n",
              "      <td>2.0</td>\n",
              "      <td>1</td>\n",
              "      <td>0</td>\n",
              "      <td>0</td>\n",
              "      <td>0</td>\n",
              "      <td>0</td>\n",
              "      <td>0</td>\n",
              "      <td>0</td>\n",
              "      <td>0</td>\n",
              "      <td>0</td>\n",
              "      <td>1</td>\n",
              "      <td>0</td>\n",
              "      <td>0</td>\n",
              "      <td>0</td>\n",
              "      <td>0</td>\n",
              "      <td>0</td>\n",
              "      <td>0</td>\n",
              "      <td>1</td>\n",
              "    </tr>\n",
              "    <tr>\n",
              "      <th>213446</th>\n",
              "      <td>32.0</td>\n",
              "      <td>1</td>\n",
              "      <td>-1.0</td>\n",
              "      <td>0</td>\n",
              "      <td>1</td>\n",
              "      <td>0</td>\n",
              "      <td>0</td>\n",
              "      <td>0</td>\n",
              "      <td>0</td>\n",
              "      <td>0</td>\n",
              "      <td>0</td>\n",
              "      <td>0</td>\n",
              "      <td>0</td>\n",
              "      <td>0</td>\n",
              "      <td>0</td>\n",
              "      <td>0</td>\n",
              "      <td>0</td>\n",
              "      <td>0</td>\n",
              "      <td>1</td>\n",
              "      <td>11</td>\n",
              "    </tr>\n",
              "  </tbody>\n",
              "</table>\n",
              "</div>"
            ],
            "text/plain": [
              "         age  language  date  FEMALE  MALE  OTHER  Jan  Feb  Mar  Apr  May  \\\n",
              "213440  24.0         1  -1.0       1     0      0    0    0    0    0    0   \n",
              "213441  34.0         1  44.0       1     0      0    0    0    0    0    0   \n",
              "213443  36.0         1  13.0       1     0      0    0    0    0    0    0   \n",
              "213445  23.0         1   2.0       1     0      0    0    0    0    0    0   \n",
              "213446  32.0         1  -1.0       0     1      0    0    0    0    0    0   \n",
              "\n",
              "        Jun  Jul  Aug  Sept  Oct  Nov  Dec  NaT  country_destination  \n",
              "213440    0    0    0     0    0    0    0    1                   11  \n",
              "213441    0    0    1     0    0    0    0    0                    5  \n",
              "213443    0    1    0     0    0    0    0    0                    1  \n",
              "213445    0    1    0     0    0    0    0    0                    1  \n",
              "213446    0    0    0     0    0    0    0    1                   11  "
            ]
          },
          "metadata": {
            "tags": []
          },
          "execution_count": 23
        }
      ]
    },
    {
      "metadata": {
        "id": "R9T3Srqc76Sg",
        "colab_type": "text"
      },
      "cell_type": "markdown",
      "source": [
        "# Logistic Regression"
      ]
    },
    {
      "metadata": {
        "id": "S2zOp_Xx8Bcs",
        "colab_type": "code",
        "outputId": "040bc83d-1fda-4da8-dddc-f26989d18f7a",
        "colab": {
          "base_uri": "https://localhost:8080/",
          "height": 139
        }
      },
      "cell_type": "code",
      "source": [
        "import numpy as np\n",
        "import matplotlib.pyplot as plt\n",
        "import pandas as pd\n",
        "from sklearn.model_selection import cross_val_score\n",
        "from sklearn.preprocessing import StandardScaler\n",
        "from sklearn.cross_validation import train_test_split\n",
        "from sklearn.linear_model import LogisticRegression\n",
        "\n",
        "dataset = pd.read_csv(\"/content/gdrive/My Drive/Colab Notebooks/dataset.csv\")\n",
        "\n",
        "# Dataset Done\n",
        "\n",
        "# K folds cross validation\n",
        "def crossValidation(dummyData, folds):\n",
        "    testAccuracies = []\n",
        "    for i in range(0, folds):\n",
        "        # Randomize Data\n",
        "        dummyData.sample(frac=1)\n",
        "        \n",
        "        X = dummyData.iloc[:, :-1].values\n",
        "        y = dummyData.iloc[:, -1].values\n",
        "        \n",
        "        xRows, xCols = X.shape\n",
        "        \n",
        "        X = np.reshape(X, (xRows, xCols))\n",
        "        y = np.reshape(y, (xRows, 1))\n",
        "  \n",
        "        X_train, X_test, y_train, y_test = train_test_split(X, y, test_size = 0.1, random_state = 0)\n",
        "  \n",
        "        sc = StandardScaler()\n",
        "        X_train = sc.fit_transform(X_train)\n",
        "        X_test = sc.transform(X_test)\n",
        "  \n",
        "        trainRows, trainCols = X_train.shape\n",
        "        testRows, testCols = X_test.shape\n",
        "        \n",
        "        X_train = np.reshape(X_train, (trainRows, trainCols))\n",
        "        y_train = np.reshape(y_train, (trainRows, 1))\n",
        "        X_test = np.reshape(X_test, (testRows, testCols))\n",
        "        y_test = np.reshape(y_test, (testRows, 1))\n",
        "  \n",
        "        classifier = LogisticRegression(random_state = 0, multi_class='ovr')\n",
        "        classifier.fit(X_train, y_train)\n",
        "  \n",
        "        # Predicts probabilities\n",
        "        y_pred = classifier.predict_proba(X_test)\n",
        "  \n",
        "        # Find the max column index per row\n",
        "        y_max = np.argmax(y_pred, axis=1)\n",
        "  \n",
        "        sum = 0\n",
        "  \n",
        "        for i in range(0, testRows):\n",
        "            if y_max[i] == y_test[i]:\n",
        "                sum += 1\n",
        "                \n",
        "        acc = sum/testRows\n",
        "        testAccuracies.append(acc)\n",
        "        return np.mean(testAccuracies)\n",
        "\n",
        "print(crossValidation(dataset, 5))\n",
        "\n",
        "# NDF Baseline\n",
        "X = dataset.iloc[:, :-1].values\n",
        "y = dataset.iloc[:, -1].values\n",
        "ndf = 0\n",
        "for i in range(0, 213422):\n",
        "    if y[i] == 11:\n",
        "        ndf += 1\n",
        "print(ndf/213422)"
      ],
      "execution_count": 0,
      "outputs": [
        {
          "output_type": "stream",
          "text": [
            "/usr/local/lib/python3.6/dist-packages/sklearn/cross_validation.py:41: DeprecationWarning: This module was deprecated in version 0.18 in favor of the model_selection module into which all the refactored classes and functions are moved. Also note that the interface of the new CV iterators are different from that of this module. This module will be removed in 0.20.\n",
            "  \"This module will be removed in 0.20.\", DeprecationWarning)\n",
            "/usr/local/lib/python3.6/dist-packages/sklearn/utils/validation.py:578: DataConversionWarning: A column-vector y was passed when a 1d array was expected. Please change the shape of y to (n_samples, ), for example using ravel().\n",
            "  y = column_or_1d(y, warn=True)\n"
          ],
          "name": "stderr"
        },
        {
          "output_type": "stream",
          "text": [
            "0.8810382795295881\n",
            "0.5835527733785645\n"
          ],
          "name": "stdout"
        }
      ]
    },
    {
      "metadata": {
        "id": "I-BOo2YdZs7O",
        "colab_type": "text"
      },
      "cell_type": "markdown",
      "source": [
        "# Decision Tree"
      ]
    },
    {
      "metadata": {
        "id": "Br6QGo4F3xCL",
        "colab_type": "code",
        "colab": {}
      },
      "cell_type": "code",
      "source": [
        "# Converting Dataframe to an Array and Organizing Data\n",
        "training_array = train_users.values\n",
        "X_train_val = training_array[:int(len(train_users)*.8),:19]\n",
        "Y_train_val = training_array[:int(len(train_users)*.8),19]\n",
        "X_test = training_array[int(len(train_users)*.8):,:19]\n",
        "Y_test = training_array[int(len(train_users)*.8):,19]"
      ],
      "execution_count": 0,
      "outputs": []
    },
    {
      "metadata": {
        "id": "lkdmgivg1oNo",
        "colab_type": "code",
        "outputId": "eb807751-2a7d-4aca-d517-914c31157f79",
        "colab": {
          "base_uri": "https://localhost:8080/",
          "height": 88
        }
      },
      "cell_type": "code",
      "source": [
        "# Training the Decision Tree Model\n",
        "model = tree.DecisionTreeClassifier()\n",
        "D = [1,3,5,7,9]\n",
        "clf = GridSearchCV(model,{'max_depth':D},cv=5)\n",
        "clf.fit(X_train_val, Y_train_val)\n",
        "train_acc = clf.cv_results_['mean_train_score']\n",
        "val_acc = clf.cv_results_['mean_test_score']\n",
        "print(train_acc, val_acc)"
      ],
      "execution_count": 0,
      "outputs": [
        {
          "output_type": "stream",
          "text": [
            "[0.84730437 0.84730437 0.84733658 0.84753277 0.84841413] [0.84730437 0.84730437 0.84715211 0.84656649 0.84421228]\n"
          ],
          "name": "stdout"
        },
        {
          "output_type": "stream",
          "text": [
            "/usr/local/lib/python3.6/dist-packages/sklearn/utils/deprecation.py:122: FutureWarning: You are accessing a training score ('mean_train_score'), which will not be available by default any more in 0.21. If you need training scores, please set return_train_score=True\n",
            "  warnings.warn(*warn_args, **warn_kwargs)\n"
          ],
          "name": "stderr"
        }
      ]
    },
    {
      "metadata": {
        "id": "TLPXdOqg9WUd",
        "colab_type": "code",
        "outputId": "5ae6b007-d213-44e3-ac9b-b5db998c9aae",
        "colab": {
          "base_uri": "https://localhost:8080/",
          "height": 509
        }
      },
      "cell_type": "code",
      "source": [
        "# Visualizing with heatmaps\n",
        "# Credit to UCSD's 118a instructional team for this function\n",
        "def draw_heatmap_linear(acc, acc_desc, depth_list):\n",
        "    plt.figure(figsize = (2,4))\n",
        "    ax = sns.heatmap(acc, annot=True, fmt='.3f', yticklabels=depth_list, xticklabels=[])\n",
        "    ax.collections[0].colorbar.set_label(\"accuracy\")\n",
        "    ax.set(ylabel='depth')\n",
        "    plt.title(acc_desc + ' w.r.t depth')\n",
        "    sns.set_style(\"whitegrid\", {'axes.grid' : False})\n",
        "    plt.show()\n",
        "\n",
        "train_acc = train_acc.reshape((5,1))\n",
        "draw_heatmap_linear(train_acc, 'train accuracy', D)\n",
        "\n",
        "val_acc = val_acc.reshape((5,1))\n",
        "draw_heatmap_linear(val_acc, 'val accuracy', D)"
      ],
      "execution_count": 0,
      "outputs": [
        {
          "output_type": "display_data",
          "data": {
            "image/png": "[encoded data removed]",
            "text/plain": [
              "<matplotlib.figure.Figure at 0x7f67338bfe10>"
            ]
          },
          "metadata": {
            "tags": []
          }
        },
        {
          "output_type": "display_data",
          "data": {
            "image/png": "[encoded data removed]",
            "text/plain": [
              "<matplotlib.figure.Figure at 0x7f67336aaf28>"
            ]
          },
          "metadata": {
            "tags": []
          }
        }
      ]
    },
    {
      "metadata": {
        "id": "NowebSO82T8C",
        "colab_type": "code",
        "outputId": "3455f7cd-c940-4ea7-9e60-ff5efc8e3d2b",
        "colab": {
          "base_uri": "https://localhost:8080/",
          "height": 34
        }
      },
      "cell_type": "code",
      "source": [
        "# Testing the Decision Tree Model\n",
        "clf = tree.DecisionTreeClassifier(max_depth=9)\n",
        "clf.fit(X_train_val,Y_train_val)\n",
        "pred = clf.predict(X_test)\n",
        "errors = np.count_nonzero(pred-Y_test)\n",
        "test_acc = (Y_test.size - errors)/Y_test.size\n",
        "print(test_acc)"
      ],
      "execution_count": 0,
      "outputs": [
        {
          "output_type": "stream",
          "text": [
            "0.8460997891777934\n"
          ],
          "name": "stdout"
        }
      ]
    },
    {
      "metadata": {
        "id": "a6EpKAc-ilzD",
        "colab_type": "text"
      },
      "cell_type": "markdown",
      "source": [
        "## Neural Network"
      ]
    },
    {
      "metadata": {
        "id": "-8cGscPniY_t",
        "colab_type": "code",
        "outputId": "667baa12-5be9-411d-e575-6f31371b11f5",
        "colab": {
          "base_uri": "https://localhost:8080/",
          "height": 88
        }
      },
      "cell_type": "code",
      "source": [
        "# Training the MLP Classifier\n",
        "from sklearn.neural_network import MLPClassifier\n",
        "model = MLPClassifier(solver='adam',alpha=0.0001,learning_rate='adaptive',shuffle=True)\n",
        "hidden_units = [100]\n",
        "hidden_layers = [1,2]\n",
        "clf = GridSearchCV(model,{'hidden_layer_sizes':(hidden_units,hidden_layers)},cv=5)\n",
        "clf.fit(X_train_val,Y_train_val)\n",
        "train_acc = clf.cv_results_['mean_train_score']\n",
        "val_acc = clf.cv_results_['mean_test_score']\n",
        "print(train_acc, val_acc)"
      ],
      "execution_count": 0,
      "outputs": [
        {
          "output_type": "stream",
          "text": [
            "[0.84738051 0.77357994] [0.8470467  0.77358601]\n"
          ],
          "name": "stdout"
        },
        {
          "output_type": "stream",
          "text": [
            "/usr/local/lib/python3.6/dist-packages/sklearn/utils/deprecation.py:122: FutureWarning: You are accessing a training score ('mean_train_score'), which will not be available by default any more in 0.21. If you need training scores, please set return_train_score=True\n",
            "  warnings.warn(*warn_args, **warn_kwargs)\n"
          ],
          "name": "stderr"
        }
      ]
    },
    {
      "metadata": {
        "id": "F0_zFF0U6zEG",
        "colab_type": "code",
        "outputId": "dd25a250-3a7a-4f63-9177-fb98b4568d94",
        "colab": {
          "base_uri": "https://localhost:8080/",
          "height": 54
        }
      },
      "cell_type": "code",
      "source": [
        "# Testing the MLP Classifier\n",
        "model = MLPClassifier(hidden_layer_sizes = (100,1),\\\n",
        "                      solver='adam',alpha=0.0001,learning_rate='adaptive')\n",
        "clf.fit(X_train_val,Y_train_val)\n",
        "pred = clf.predict(X_test)\n",
        "errors = np.count_nonzero(pred-Y_test)\n",
        "test_acc = (Y_test.size - errors)/Y_test.size\n",
        "print(test_acc)"
      ],
      "execution_count": 0,
      "outputs": [
        {
          "output_type": "stream",
          "text": [
            "0.8495197938627314\n"
          ],
          "name": "stdout"
        }
      ]
    },
    {
      "metadata": {
        "id": "Z9cPb3aGQ8EM",
        "colab_type": "text"
      },
      "cell_type": "markdown",
      "source": [
        "## K-Nearest Neighbors"
      ]
    },
    {
      "metadata": {
        "id": "JbGizkZ0S58j",
        "colab_type": "text"
      },
      "cell_type": "markdown",
      "source": [
        "### Using less features to avoid the curse of dimensionality"
      ]
    },
    {
      "metadata": {
        "id": "0iHmDD_tQ6pp",
        "colab_type": "code",
        "colab": {}
      },
      "cell_type": "code",
      "source": [
        "lower_dim = train_users.drop(['OTHER', 'Jan', 'Feb', 'Mar', 'Apr', 'May', 'Jun', 'Jul', 'Aug', 'Sept', 'Oct', 'Nov', 'Dec', 'NaN'], axis=1)\n",
        "X_lower = lower_dim.iloc[:, :-1].values\n",
        "y_lower = lower_dim.iloc[:, 5].values\n",
        "X_train_l, X_test_l, y_train_l, y_test_l = train_test_split(X_lower, y_lower, test_size=0.20)  \n",
        "scaler = StandardScaler()\n",
        "scaler.fit(X_train_l)\n",
        "X_train_l = scaler.transform(X_train_l)\n",
        "X_test_l = scaler.transform(X_test_l)\n",
        "error_l = []\n",
        "accuracy_l = []"
      ],
      "execution_count": 0,
      "outputs": []
    },
    {
      "metadata": {
        "id": "LN5OVik7TNAc",
        "colab_type": "text"
      },
      "cell_type": "markdown",
      "source": [
        "### Testing different values of k"
      ]
    },
    {
      "metadata": {
        "id": "cUCWSi-EROEH",
        "colab_type": "code",
        "colab": {}
      },
      "cell_type": "code",
      "source": [
        "for i in [5,10,25,50,70,90,100,461]:  \n",
        "    knn = KNeighborsClassifier(n_neighbors=i)\n",
        "    knn.fit(X_train_l, y_train_l)\n",
        "    y_pred_l = knn.predict(X_test_l)\n",
        "    error_l.append(np.mean(y_pred_l != y_test_l))\n",
        "    accuracy_l.append(accuracy_score(y_test_l, y_pred_l))"
      ],
      "execution_count": 0,
      "outputs": []
    },
    {
      "metadata": {
        "id": "FJnRAHZtRRHW",
        "colab_type": "code",
        "colab": {}
      },
      "cell_type": "code",
      "source": [
        "for i in [55,60,65]:  \n",
        "    knn = KNeighborsClassifier(n_neighbors=i)\n",
        "    knn.fit(X_train_l, y_train_l)\n",
        "    y_pred_l = knn.predict(X_test_l)\n",
        "    error_l.append(np.mean(y_pred_l != y_test_l))\n",
        "    accuracy_l.append(accuracy_score(y_test_l, y_pred_l))"
      ],
      "execution_count": 0,
      "outputs": []
    },
    {
      "metadata": {
        "id": "VbJStpyjRT4r",
        "colab_type": "code",
        "colab": {}
      },
      "cell_type": "code",
      "source": [
        "k = [5,10,25,50,70,90,100,461,55,60,65]\n",
        "kval = pd.DataFrame(columns = [\"k\", \"error\", \"accuracy\"])\n",
        "kval[\"k\"] = k\n",
        "kval[\"error\"] = error_l\n",
        "kval[\"accuracy\"] = accuracy_l\n",
        "kval.sort_values(by=\"k\")"
      ],
      "execution_count": 0,
      "outputs": []
    },
    {
      "metadata": {
        "id": "9GGWfhSZRXQt",
        "colab_type": "code",
        "colab": {}
      },
      "cell_type": "code",
      "source": [
        "kval.plot.scatter(x=\"k\", y=\"error\")\n",
        "plt.ylim(0.12,0.145)\n",
        "plt.xlim(0,105)\n",
        "plt.title(\"Error Rate for Various k\")"
      ],
      "execution_count": 0,
      "outputs": []
    },
    {
      "metadata": {
        "id": "FZSxxTDJRauC",
        "colab_type": "code",
        "colab": {}
      },
      "cell_type": "code",
      "source": [
        "kval.plot.scatter(x=\"k\", y=\"accuracy\")\n",
        "plt.xlim(0,105)\n",
        "plt.title(\"Accuracy for Various k\")"
      ],
      "execution_count": 0,
      "outputs": []
    },
    {
      "metadata": {
        "id": "V6oSMGbtTQBv",
        "colab_type": "text"
      },
      "cell_type": "markdown",
      "source": [
        "### Comparing to using all 19 features"
      ]
    },
    {
      "metadata": {
        "id": "8qrwUMv7Rfc6",
        "colab_type": "code",
        "colab": {}
      },
      "cell_type": "code",
      "source": [
        "X = train_users.iloc[:, :-1].values\n",
        "y = train_users.iloc[:, 19].values\n",
        "X_train, X_test, y_train, y_test = train_test_split(X, y, test_size=0.20)\n",
        "scaler = StandardScaler()\n",
        "scaler.fit(X_train)\n",
        "X_train = scaler.transform(X_train)\n",
        "X_test = scaler.transform(X_test)\n",
        "classifier = KNeighborsClassifier(n_neighbors=60)\n",
        "classifier.fit(X_train, y_train)\n",
        "y_pred = classifier.predict(X_test)\n",
        "print(np.mean(y_pred != y_test))\n",
        "print(accuracy_score(y_test, y_pred))"
      ],
      "execution_count": 0,
      "outputs": []
    },
    {
      "metadata": {
        "id": "Zj9YhRqhTW3G",
        "colab_type": "text"
      },
      "cell_type": "markdown",
      "source": [
        "### Modifying data to have no NDF and less US"
      ]
    },
    {
      "metadata": {
        "id": "3A26FTvNSdma",
        "colab_type": "code",
        "colab": {}
      },
      "cell_type": "code",
      "source": [
        "no_ndf = train_users[train_users.country_destination != 11]\n",
        "us = no_ndf[no_ndf['country_destination'] == 1]\n",
        "no_us = no_ndf[no_ndf['country_destination'] != 1]\n",
        "smaller_us = us.head(50000)\n",
        "df = pd.DataFrame()\n",
        "df = df.append(smaller_us)\n",
        "df = df.append(no_us)\n",
        "lower_df = df.drop(['OTHER', 'Jan', 'Feb', 'Mar', 'Apr', 'May', 'Jun', 'Jul', 'Aug', 'Sept', 'Oct', 'Nov', 'Dec', 'NaN'], axis=1)\n",
        "shuffled_df = lower_df.sample(frac=1)\n",
        "X_lower = shuffled_df.iloc[:, :-1].values\n",
        "y_lower = shuffled_df.iloc[:, 5].values\n",
        "X_train_l, X_test_l, y_train_l, y_test_l = train_test_split(X_lower, y_lower, test_size=0.20)  \n",
        "scaler = StandardScaler()\n",
        "scaler.fit(X_train_l)\n",
        "X_train_l = scaler.transform(X_train_l)\n",
        "X_test_l = scaler.transform(X_test_l)"
      ],
      "execution_count": 0,
      "outputs": []
    },
    {
      "metadata": {
        "id": "urFtNSZwS2W2",
        "colab_type": "code",
        "colab": {}
      },
      "cell_type": "code",
      "source": [
        "error_l = []\n",
        "accuracy_l = []\n",
        "for i in [5,10,30,60,461]:  \n",
        "    knn = KNeighborsClassifier(n_neighbors=i)\n",
        "    knn.fit(X_train_l, y_train_l)\n",
        "    y_pred_l = knn.predict(X_test_l)\n",
        "    print(\"Using k=\" + str(i) + \" we predict countries: \" + str(set(y_pred_l)))\n",
        "    error_l.append(np.mean(y_pred_l != y_test_l))\n",
        "    accuracy_l.append(accuracy_score(y_test_l, y_pred_l))"
      ],
      "execution_count": 0,
      "outputs": []
    },
    {
      "metadata": {
        "id": "LgUevIIhS27U",
        "colab_type": "code",
        "colab": {}
      },
      "cell_type": "code",
      "source": [
        "k_l = [5,60,100,461,1000]\n",
        "kval_l = pd.DataFrame(columns = [\"k\", \"error\", \"accuracy\"])\n",
        "kval_l[\"k\"] = k_l\n",
        "kval_l[\"error\"] = error_l\n",
        "kval_l[\"accuracy\"] = accuracy_l\n",
        "kval_l.sort_values(by=\"k\")"
      ],
      "execution_count": 0,
      "outputs": []
    }
  ]
}